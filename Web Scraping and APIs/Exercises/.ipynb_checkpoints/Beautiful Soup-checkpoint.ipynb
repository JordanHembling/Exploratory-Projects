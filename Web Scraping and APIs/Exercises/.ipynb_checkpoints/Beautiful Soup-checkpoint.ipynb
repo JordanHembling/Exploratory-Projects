{
 "cells": [
  {
   "cell_type": "markdown",
   "id": "146bbccf",
   "metadata": {},
   "source": [
    "#### Importing Packages"
   ]
  },
  {
   "cell_type": "code",
   "execution_count": 1,
   "id": "e0bf5883",
   "metadata": {},
   "outputs": [],
   "source": [
    "import requests\n",
    "from bs4 import BeautifulSoup"
   ]
  },
  {
   "cell_type": "markdown",
   "id": "6e0de3ce",
   "metadata": {},
   "source": [
    "### Making get request"
   ]
  },
  {
   "cell_type": "code",
   "execution_count": 2,
   "id": "d7efed37",
   "metadata": {},
   "outputs": [],
   "source": [
    "base_site = \"https://en.wikipedia.org/wiki/Music\""
   ]
  },
  {
   "cell_type": "code",
   "execution_count": 4,
   "id": "c2d6cac1",
   "metadata": {},
   "outputs": [
    {
     "data": {
      "text/plain": [
       "<Response [200]>"
      ]
     },
     "execution_count": 4,
     "metadata": {},
     "output_type": "execute_result"
    }
   ],
   "source": [
    "response = requests.get(base_site)\n",
    "response"
   ]
  },
  {
   "cell_type": "code",
   "execution_count": 5,
   "id": "878284a5",
   "metadata": {},
   "outputs": [
    {
     "data": {
      "text/plain": [
       "b'<!DOCTYPE html>\\n<html class=\"client-nojs\" lang=\"en\" dir=\"ltr\">\\n<head>\\n<meta charset=\"UTF-8\"/>\\n<title'"
      ]
     },
     "execution_count": 5,
     "metadata": {},
     "output_type": "execute_result"
    }
   ],
   "source": [
    "html = response.content\n",
    "html[:100]"
   ]
  },
  {
   "cell_type": "markdown",
   "id": "299c2dc7",
   "metadata": {},
   "source": [
    "### Making the soup"
   ]
  },
  {
   "cell_type": "code",
   "execution_count": 6,
   "id": "0907157b",
   "metadata": {},
   "outputs": [],
   "source": [
    "soup = BeautifulSoup(html, \"html.parser\")"
   ]
  },
  {
   "cell_type": "markdown",
   "id": "617166d2",
   "metadata": {},
   "source": [
    "#### Exporting the HTML to a file"
   ]
  },
  {
   "cell_type": "code",
   "execution_count": 8,
   "id": "19bef227",
   "metadata": {},
   "outputs": [],
   "source": [
    "with open('Wiki_response.html', 'wb') as file:\n",
    "    file.write(soup.prettify('utf-8'))"
   ]
  },
  {
   "cell_type": "markdown",
   "id": "b56940c2",
   "metadata": {},
   "source": [
    "### Searching and Navigating the HTML tree"
   ]
  },
  {
   "cell_type": "markdown",
   "id": "a89a7180",
   "metadata": {},
   "source": [
    "#### Searching - find() and find_all()"
   ]
  },
  {
   "cell_type": "code",
   "execution_count": null,
   "id": "e9b035ca",
   "metadata": {},
   "outputs": [],
   "source": []
  },
  {
   "cell_type": "code",
   "execution_count": null,
   "id": "f807d238",
   "metadata": {},
   "outputs": [],
   "source": []
  },
  {
   "cell_type": "code",
   "execution_count": null,
   "id": "cf536db8",
   "metadata": {},
   "outputs": [],
   "source": []
  }
 ],
 "metadata": {
  "kernelspec": {
   "display_name": "Python 3",
   "language": "python",
   "name": "python3"
  },
  "language_info": {
   "codemirror_mode": {
    "name": "ipython",
    "version": 3
   },
   "file_extension": ".py",
   "mimetype": "text/x-python",
   "name": "python",
   "nbconvert_exporter": "python",
   "pygments_lexer": "ipython3",
   "version": "3.8.8"
  }
 },
 "nbformat": 4,
 "nbformat_minor": 5
}
